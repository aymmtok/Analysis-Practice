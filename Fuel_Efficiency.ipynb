{
 "cells": [
  {
   "cell_type": "markdown",
   "metadata": {},
   "source": [
    "# Driving Visual Analyses with Automobile Data\n",
    "<br>\n",
    "<li> Analyzing automobile fuel efficiency over time\n",
    "<li> Investigating the makes and models of automobiles"
   ]
  },
  {
   "cell_type": "markdown",
   "metadata": {},
   "source": [
    "### Dataset\n",
    "**vehicles.csv:** contains fuel efficiency performance metrics over time for all makes and models of automobiles in the USA."
   ]
  },
  {
   "cell_type": "markdown",
   "metadata": {},
   "source": [
    "**Some terms:**<br>\n",
    "**engine displacement** The lower the displacement, the less fuel it can consume<br>\n",
    "**MPG** Miles per gallon"
   ]
  },
  {
   "cell_type": "code",
   "execution_count": 1,
   "metadata": {},
   "outputs": [],
   "source": [
    "import pandas as pd\n",
    "import numpy as np\n",
    "import matplotlib.pyplot as plt\n",
    "import seaborn as sns\n",
    "sns.set()\n",
    "#from ggplot import *\n",
    "#%matplotlib inline"
   ]
  },
  {
   "cell_type": "code",
   "execution_count": 2,
   "metadata": {},
   "outputs": [
    {
     "name": "stderr",
     "output_type": "stream",
     "text": [
      "/Users/ayumi.matsuoka/anaconda3/lib/python3.7/site-packages/IPython/core/interactiveshell.py:3057: DtypeWarning: Columns (70,71,72,73,74,76,79) have mixed types. Specify dtype option on import or set low_memory=False.\n",
      "  interactivity=interactivity, compiler=compiler, result=result)\n"
     ]
    },
    {
     "data": {
      "text/html": [
       "<div>\n",
       "<style scoped>\n",
       "    .dataframe tbody tr th:only-of-type {\n",
       "        vertical-align: middle;\n",
       "    }\n",
       "\n",
       "    .dataframe tbody tr th {\n",
       "        vertical-align: top;\n",
       "    }\n",
       "\n",
       "    .dataframe thead th {\n",
       "        text-align: right;\n",
       "    }\n",
       "</style>\n",
       "<table border=\"1\" class=\"dataframe\">\n",
       "  <thead>\n",
       "    <tr style=\"text-align: right;\">\n",
       "      <th></th>\n",
       "      <th>barrels08</th>\n",
       "      <th>barrelsA08</th>\n",
       "      <th>charge120</th>\n",
       "      <th>charge240</th>\n",
       "      <th>city08</th>\n",
       "      <th>city08U</th>\n",
       "      <th>cityA08</th>\n",
       "      <th>cityA08U</th>\n",
       "      <th>cityCD</th>\n",
       "      <th>cityE</th>\n",
       "      <th>...</th>\n",
       "      <th>mfrCode</th>\n",
       "      <th>c240Dscr</th>\n",
       "      <th>charge240b</th>\n",
       "      <th>c240bDscr</th>\n",
       "      <th>createdOn</th>\n",
       "      <th>modifiedOn</th>\n",
       "      <th>startStop</th>\n",
       "      <th>phevCity</th>\n",
       "      <th>phevHwy</th>\n",
       "      <th>phevComb</th>\n",
       "    </tr>\n",
       "  </thead>\n",
       "  <tbody>\n",
       "    <tr>\n",
       "      <th>0</th>\n",
       "      <td>15.695714</td>\n",
       "      <td>0.0</td>\n",
       "      <td>0.0</td>\n",
       "      <td>0.0</td>\n",
       "      <td>19</td>\n",
       "      <td>0.0</td>\n",
       "      <td>0</td>\n",
       "      <td>0.0</td>\n",
       "      <td>0.0</td>\n",
       "      <td>0.0</td>\n",
       "      <td>...</td>\n",
       "      <td>NaN</td>\n",
       "      <td>NaN</td>\n",
       "      <td>0.0</td>\n",
       "      <td>NaN</td>\n",
       "      <td>Tue Jan 01 00:00:00 EST 2013</td>\n",
       "      <td>Tue Jan 01 00:00:00 EST 2013</td>\n",
       "      <td>NaN</td>\n",
       "      <td>0</td>\n",
       "      <td>0</td>\n",
       "      <td>0</td>\n",
       "    </tr>\n",
       "    <tr>\n",
       "      <th>1</th>\n",
       "      <td>29.964545</td>\n",
       "      <td>0.0</td>\n",
       "      <td>0.0</td>\n",
       "      <td>0.0</td>\n",
       "      <td>9</td>\n",
       "      <td>0.0</td>\n",
       "      <td>0</td>\n",
       "      <td>0.0</td>\n",
       "      <td>0.0</td>\n",
       "      <td>0.0</td>\n",
       "      <td>...</td>\n",
       "      <td>NaN</td>\n",
       "      <td>NaN</td>\n",
       "      <td>0.0</td>\n",
       "      <td>NaN</td>\n",
       "      <td>Tue Jan 01 00:00:00 EST 2013</td>\n",
       "      <td>Tue Jan 01 00:00:00 EST 2013</td>\n",
       "      <td>NaN</td>\n",
       "      <td>0</td>\n",
       "      <td>0</td>\n",
       "      <td>0</td>\n",
       "    </tr>\n",
       "    <tr>\n",
       "      <th>2</th>\n",
       "      <td>12.207778</td>\n",
       "      <td>0.0</td>\n",
       "      <td>0.0</td>\n",
       "      <td>0.0</td>\n",
       "      <td>23</td>\n",
       "      <td>0.0</td>\n",
       "      <td>0</td>\n",
       "      <td>0.0</td>\n",
       "      <td>0.0</td>\n",
       "      <td>0.0</td>\n",
       "      <td>...</td>\n",
       "      <td>NaN</td>\n",
       "      <td>NaN</td>\n",
       "      <td>0.0</td>\n",
       "      <td>NaN</td>\n",
       "      <td>Tue Jan 01 00:00:00 EST 2013</td>\n",
       "      <td>Tue Jan 01 00:00:00 EST 2013</td>\n",
       "      <td>NaN</td>\n",
       "      <td>0</td>\n",
       "      <td>0</td>\n",
       "      <td>0</td>\n",
       "    </tr>\n",
       "    <tr>\n",
       "      <th>3</th>\n",
       "      <td>29.964545</td>\n",
       "      <td>0.0</td>\n",
       "      <td>0.0</td>\n",
       "      <td>0.0</td>\n",
       "      <td>10</td>\n",
       "      <td>0.0</td>\n",
       "      <td>0</td>\n",
       "      <td>0.0</td>\n",
       "      <td>0.0</td>\n",
       "      <td>0.0</td>\n",
       "      <td>...</td>\n",
       "      <td>NaN</td>\n",
       "      <td>NaN</td>\n",
       "      <td>0.0</td>\n",
       "      <td>NaN</td>\n",
       "      <td>Tue Jan 01 00:00:00 EST 2013</td>\n",
       "      <td>Tue Jan 01 00:00:00 EST 2013</td>\n",
       "      <td>NaN</td>\n",
       "      <td>0</td>\n",
       "      <td>0</td>\n",
       "      <td>0</td>\n",
       "    </tr>\n",
       "    <tr>\n",
       "      <th>4</th>\n",
       "      <td>17.347895</td>\n",
       "      <td>0.0</td>\n",
       "      <td>0.0</td>\n",
       "      <td>0.0</td>\n",
       "      <td>17</td>\n",
       "      <td>0.0</td>\n",
       "      <td>0</td>\n",
       "      <td>0.0</td>\n",
       "      <td>0.0</td>\n",
       "      <td>0.0</td>\n",
       "      <td>...</td>\n",
       "      <td>NaN</td>\n",
       "      <td>NaN</td>\n",
       "      <td>0.0</td>\n",
       "      <td>NaN</td>\n",
       "      <td>Tue Jan 01 00:00:00 EST 2013</td>\n",
       "      <td>Tue Jan 01 00:00:00 EST 2013</td>\n",
       "      <td>NaN</td>\n",
       "      <td>0</td>\n",
       "      <td>0</td>\n",
       "      <td>0</td>\n",
       "    </tr>\n",
       "  </tbody>\n",
       "</table>\n",
       "<p>5 rows × 83 columns</p>\n",
       "</div>"
      ],
      "text/plain": [
       "   barrels08  barrelsA08  charge120  charge240  city08  city08U  cityA08  \\\n",
       "0  15.695714         0.0        0.0        0.0      19      0.0        0   \n",
       "1  29.964545         0.0        0.0        0.0       9      0.0        0   \n",
       "2  12.207778         0.0        0.0        0.0      23      0.0        0   \n",
       "3  29.964545         0.0        0.0        0.0      10      0.0        0   \n",
       "4  17.347895         0.0        0.0        0.0      17      0.0        0   \n",
       "\n",
       "   cityA08U  cityCD  cityE  ...  mfrCode  c240Dscr  charge240b  c240bDscr  \\\n",
       "0       0.0     0.0    0.0  ...      NaN       NaN         0.0        NaN   \n",
       "1       0.0     0.0    0.0  ...      NaN       NaN         0.0        NaN   \n",
       "2       0.0     0.0    0.0  ...      NaN       NaN         0.0        NaN   \n",
       "3       0.0     0.0    0.0  ...      NaN       NaN         0.0        NaN   \n",
       "4       0.0     0.0    0.0  ...      NaN       NaN         0.0        NaN   \n",
       "\n",
       "                      createdOn                    modifiedOn  startStop  \\\n",
       "0  Tue Jan 01 00:00:00 EST 2013  Tue Jan 01 00:00:00 EST 2013        NaN   \n",
       "1  Tue Jan 01 00:00:00 EST 2013  Tue Jan 01 00:00:00 EST 2013        NaN   \n",
       "2  Tue Jan 01 00:00:00 EST 2013  Tue Jan 01 00:00:00 EST 2013        NaN   \n",
       "3  Tue Jan 01 00:00:00 EST 2013  Tue Jan 01 00:00:00 EST 2013        NaN   \n",
       "4  Tue Jan 01 00:00:00 EST 2013  Tue Jan 01 00:00:00 EST 2013        NaN   \n",
       "\n",
       "   phevCity  phevHwy  phevComb  \n",
       "0         0        0         0  \n",
       "1         0        0         0  \n",
       "2         0        0         0  \n",
       "3         0        0         0  \n",
       "4         0        0         0  \n",
       "\n",
       "[5 rows x 83 columns]"
      ]
     },
     "execution_count": 2,
     "metadata": {},
     "output_type": "execute_result"
    }
   ],
   "source": [
    "vehicles = pd.read_csv('vehicles.csv')\n",
    "vehicles.head()"
   ]
  },
  {
   "cell_type": "code",
   "execution_count": 3,
   "metadata": {},
   "outputs": [
    {
     "data": {
      "text/plain": [
       "array(['fuelType2', 'rangeA', 'evMotor', 'mfrCode', 'c240Dscr',\n",
       "       'c240bDscr', 'startStop'], dtype=object)"
      ]
     },
     "execution_count": 3,
     "metadata": {},
     "output_type": "execute_result"
    }
   ],
   "source": [
    "column_names = vehicles.columns.values\n",
    "column_names[[70,71,72,73,74,76,79]]"
   ]
  },
  {
   "cell_type": "code",
   "execution_count": 4,
   "metadata": {
    "scrolled": true
   },
   "outputs": [
    {
     "name": "stdout",
     "output_type": "stream",
     "text": [
      "<class 'pandas.core.frame.DataFrame'>\n",
      "RangeIndex: 42136 entries, 0 to 42135\n",
      "Data columns (total 83 columns):\n",
      "barrels08          42136 non-null float64\n",
      "barrelsA08         42136 non-null float64\n",
      "charge120          42136 non-null float64\n",
      "charge240          42136 non-null float64\n",
      "city08             42136 non-null int64\n",
      "city08U            42136 non-null float64\n",
      "cityA08            42136 non-null int64\n",
      "cityA08U           42136 non-null float64\n",
      "cityCD             42136 non-null float64\n",
      "cityE              42136 non-null float64\n",
      "cityUF             42136 non-null float64\n",
      "co2                42136 non-null int64\n",
      "co2A               42136 non-null int64\n",
      "co2TailpipeAGpm    42136 non-null float64\n",
      "co2TailpipeGpm     42136 non-null float64\n",
      "comb08             42136 non-null int64\n",
      "comb08U            42136 non-null float64\n",
      "combA08            42136 non-null int64\n",
      "combA08U           42136 non-null float64\n",
      "combE              42136 non-null float64\n",
      "combinedCD         42136 non-null float64\n",
      "combinedUF         42136 non-null float64\n",
      "cylinders          41904 non-null float64\n",
      "displ              41906 non-null float64\n",
      "drive              40947 non-null object\n",
      "engId              42136 non-null int64\n",
      "eng_dscr           25825 non-null object\n",
      "feScore            42136 non-null int64\n",
      "fuelCost08         42136 non-null int64\n",
      "fuelCostA08        42136 non-null int64\n",
      "fuelType           42136 non-null object\n",
      "fuelType1          42136 non-null object\n",
      "ghgScore           42136 non-null int64\n",
      "ghgScoreA          42136 non-null int64\n",
      "highway08          42136 non-null int64\n",
      "highway08U         42136 non-null float64\n",
      "highwayA08         42136 non-null int64\n",
      "highwayA08U        42136 non-null float64\n",
      "highwayCD          42136 non-null float64\n",
      "highwayE           42136 non-null float64\n",
      "highwayUF          42136 non-null float64\n",
      "hlv                42136 non-null int64\n",
      "hpv                42136 non-null int64\n",
      "id                 42136 non-null int64\n",
      "lv2                42136 non-null int64\n",
      "lv4                42136 non-null int64\n",
      "make               42136 non-null object\n",
      "model              42136 non-null object\n",
      "mpgData            42136 non-null object\n",
      "phevBlended        42136 non-null bool\n",
      "pv2                42136 non-null int64\n",
      "pv4                42136 non-null int64\n",
      "range              42136 non-null int64\n",
      "rangeCity          42136 non-null float64\n",
      "rangeCityA         42136 non-null float64\n",
      "rangeHwy           42136 non-null float64\n",
      "rangeHwyA          42136 non-null float64\n",
      "trany              42125 non-null object\n",
      "UCity              42136 non-null float64\n",
      "UCityA             42136 non-null float64\n",
      "UHighway           42136 non-null float64\n",
      "UHighwayA          42136 non-null float64\n",
      "VClass             42136 non-null object\n",
      "year               42136 non-null int64\n",
      "youSaveSpend       42136 non-null int64\n",
      "guzzler            2481 non-null object\n",
      "trans_dscr         15047 non-null object\n",
      "tCharger           7390 non-null object\n",
      "sCharger           878 non-null object\n",
      "atvType            3737 non-null object\n",
      "fuelType2          1664 non-null object\n",
      "rangeA             1659 non-null object\n",
      "evMotor            988 non-null object\n",
      "mfrCode            11318 non-null object\n",
      "c240Dscr           101 non-null object\n",
      "charge240b         42136 non-null float64\n",
      "c240bDscr          95 non-null object\n",
      "createdOn          42136 non-null object\n",
      "modifiedOn         42136 non-null object\n",
      "startStop          10432 non-null object\n",
      "phevCity           42136 non-null int64\n",
      "phevHwy            42136 non-null int64\n",
      "phevComb           42136 non-null int64\n",
      "dtypes: bool(1), float64(32), int64(27), object(23)\n",
      "memory usage: 26.4+ MB\n"
     ]
    }
   ],
   "source": [
    "vehicles.info()"
   ]
  },
  {
   "cell_type": "code",
   "execution_count": 5,
   "metadata": {},
   "outputs": [
    {
     "data": {
      "text/plain": [
       "38"
      ]
     },
     "execution_count": 5,
     "metadata": {},
     "output_type": "execute_result"
    }
   ],
   "source": [
    "len(pd.unique(vehicles.year))"
   ]
  },
  {
   "cell_type": "code",
   "execution_count": 6,
   "metadata": {},
   "outputs": [
    {
     "data": {
      "text/plain": [
       "1984"
      ]
     },
     "execution_count": 6,
     "metadata": {},
     "output_type": "execute_result"
    }
   ],
   "source": [
    "vehicles['year'].min()"
   ]
  },
  {
   "cell_type": "code",
   "execution_count": 7,
   "metadata": {},
   "outputs": [
    {
     "data": {
      "text/plain": [
       "2021"
      ]
     },
     "execution_count": 7,
     "metadata": {},
     "output_type": "execute_result"
    }
   ],
   "source": [
    "vehicles['year'].max()"
   ]
  },
  {
   "cell_type": "markdown",
   "metadata": {},
   "source": [
    "### <li>What types of fuel are used as the automobiles' primary fuel types?"
   ]
  },
  {
   "cell_type": "code",
   "execution_count": 8,
   "metadata": {},
   "outputs": [
    {
     "data": {
      "text/plain": [
       "Regular Gasoline     28294\n",
       "Premium Gasoline     12237\n",
       "Diesel                1198\n",
       "Electricity            229\n",
       "Midgrade Gasoline      118\n",
       "Natural Gas             60\n",
       "Name: fuelType1, dtype: int64"
      ]
     },
     "execution_count": 8,
     "metadata": {},
     "output_type": "execute_result"
    }
   ],
   "source": [
    "vehicles['fuelType1'].value_counts()"
   ]
  },
  {
   "cell_type": "markdown",
   "metadata": {},
   "source": [
    "### <li> What types of transmissions these automobies have?"
   ]
  },
  {
   "cell_type": "code",
   "execution_count": 9,
   "metadata": {
    "scrolled": true
   },
   "outputs": [
    {
     "data": {
      "text/plain": [
       "Automatic 4-spd                     11048\n",
       "Manual 5-spd                         8368\n",
       "Automatic (S6)                       3179\n",
       "Automatic 3-spd                      3151\n",
       "Manual 6-spd                         2810\n",
       "Automatic 5-spd                      2203\n",
       "Automatic (S8)                       1886\n",
       "Automatic 6-spd                      1678\n",
       "Manual 4-spd                         1483\n",
       "Automatic (variable gear ratios)      877\n",
       "Automatic (S5)                        836\n",
       "Automatic 7-spd                       734\n",
       "Automatic 8-spd                       521\n",
       "Automatic (AM-S7)                     467\n",
       "Automatic 9-spd                       397\n",
       "Automatic (S7)                        340\n",
       "Automatic (AM7)                       266\n",
       "Automatic (S4)                        233\n",
       "Automatic (A1)                        227\n",
       "Automatic (AV-S6)                     225\n",
       "Automatic (S10)                       183\n",
       "Automatic (AM6)                       160\n",
       "Automatic (AV-S7)                     159\n",
       "Manual 7-spd                          119\n",
       "Automatic (AM-S6)                     119\n",
       "Automatic (S9)                        108\n",
       "Automatic (AM-S8)                      92\n",
       "Manual 3-spd                           77\n",
       "Automatic (AV-S8)                      63\n",
       "Automatic 10-spd                       50\n",
       "Automatic (AV-S10)                     17\n",
       "Manual 4-spd Doubled                   17\n",
       "Automatic (AM5)                        14\n",
       "Automatic (AM8)                         8\n",
       "Automatic (AM-S9)                       4\n",
       "Automatic (A2)                          2\n",
       "Automatic (L4)                          2\n",
       "Automatic (L3)                          2\n",
       "Name: trany, dtype: int64"
      ]
     },
     "execution_count": 9,
     "metadata": {},
     "output_type": "execute_result"
    }
   ],
   "source": [
    "vehicles['trany'].value_counts()"
   ]
  },
  {
   "cell_type": "markdown",
   "metadata": {},
   "source": [
    "#### We just want to know the number of cars with automatic and manual transmissions.\n",
    "Automatic -- start with the letter **A**,<br>\n",
    "Manual -- start with **M**<br>\n",
    "\n",
    "### <li>Create a new variable 'trany2' that contains the first character of the 'trany'"
   ]
  },
  {
   "cell_type": "code",
   "execution_count": 10,
   "metadata": {},
   "outputs": [
    {
     "data": {
      "text/plain": [
       "A    29251\n",
       "M    12874\n",
       "Name: trany2, dtype: int64"
      ]
     },
     "execution_count": 10,
     "metadata": {},
     "output_type": "execute_result"
    }
   ],
   "source": [
    "vehicles['trany2'] = vehicles.trany.str[0]\n",
    "vehicles['trany2'].value_counts()"
   ]
  },
  {
   "cell_type": "markdown",
   "metadata": {},
   "source": [
    "***"
   ]
  },
  {
   "cell_type": "markdown",
   "metadata": {},
   "source": [
    "### <li>Is there an overall trend of how mpg changes over time on average?"
   ]
  },
  {
   "cell_type": "code",
   "execution_count": 11,
   "metadata": {
    "scrolled": true
   },
   "outputs": [
    {
     "data": {
      "text/html": [
       "<div>\n",
       "<style scoped>\n",
       "    .dataframe tbody tr th:only-of-type {\n",
       "        vertical-align: middle;\n",
       "    }\n",
       "\n",
       "    .dataframe tbody tr th {\n",
       "        vertical-align: top;\n",
       "    }\n",
       "\n",
       "    .dataframe thead th {\n",
       "        text-align: right;\n",
       "    }\n",
       "</style>\n",
       "<table border=\"1\" class=\"dataframe\">\n",
       "  <thead>\n",
       "    <tr style=\"text-align: right;\">\n",
       "      <th></th>\n",
       "      <th>comb08</th>\n",
       "      <th>highway08</th>\n",
       "      <th>city08</th>\n",
       "    </tr>\n",
       "    <tr>\n",
       "      <th>year</th>\n",
       "      <th></th>\n",
       "      <th></th>\n",
       "      <th></th>\n",
       "    </tr>\n",
       "  </thead>\n",
       "  <tbody>\n",
       "    <tr>\n",
       "      <th>1984</th>\n",
       "      <td>19.881874</td>\n",
       "      <td>23.075356</td>\n",
       "      <td>17.982688</td>\n",
       "    </tr>\n",
       "    <tr>\n",
       "      <th>1985</th>\n",
       "      <td>19.808348</td>\n",
       "      <td>23.042328</td>\n",
       "      <td>17.878307</td>\n",
       "    </tr>\n",
       "    <tr>\n",
       "      <th>1986</th>\n",
       "      <td>19.550413</td>\n",
       "      <td>22.699174</td>\n",
       "      <td>17.665289</td>\n",
       "    </tr>\n",
       "    <tr>\n",
       "      <th>1987</th>\n",
       "      <td>19.228549</td>\n",
       "      <td>22.445068</td>\n",
       "      <td>17.310345</td>\n",
       "    </tr>\n",
       "    <tr>\n",
       "      <th>1988</th>\n",
       "      <td>19.328319</td>\n",
       "      <td>22.702655</td>\n",
       "      <td>17.333628</td>\n",
       "    </tr>\n",
       "    <tr>\n",
       "      <th>1989</th>\n",
       "      <td>19.125759</td>\n",
       "      <td>22.465742</td>\n",
       "      <td>17.143972</td>\n",
       "    </tr>\n",
       "    <tr>\n",
       "      <th>1990</th>\n",
       "      <td>19.000928</td>\n",
       "      <td>22.337662</td>\n",
       "      <td>17.033395</td>\n",
       "    </tr>\n",
       "    <tr>\n",
       "      <th>1991</th>\n",
       "      <td>18.825972</td>\n",
       "      <td>22.253534</td>\n",
       "      <td>16.848940</td>\n",
       "    </tr>\n",
       "    <tr>\n",
       "      <th>1992</th>\n",
       "      <td>18.862623</td>\n",
       "      <td>22.439786</td>\n",
       "      <td>16.805531</td>\n",
       "    </tr>\n",
       "    <tr>\n",
       "      <th>1993</th>\n",
       "      <td>19.104300</td>\n",
       "      <td>22.780421</td>\n",
       "      <td>16.998170</td>\n",
       "    </tr>\n",
       "    <tr>\n",
       "      <th>1994</th>\n",
       "      <td>19.012220</td>\n",
       "      <td>22.725051</td>\n",
       "      <td>16.918534</td>\n",
       "    </tr>\n",
       "    <tr>\n",
       "      <th>1995</th>\n",
       "      <td>18.797311</td>\n",
       "      <td>22.671148</td>\n",
       "      <td>16.569804</td>\n",
       "    </tr>\n",
       "    <tr>\n",
       "      <th>1996</th>\n",
       "      <td>19.584735</td>\n",
       "      <td>23.569211</td>\n",
       "      <td>17.289780</td>\n",
       "    </tr>\n",
       "    <tr>\n",
       "      <th>1997</th>\n",
       "      <td>19.429134</td>\n",
       "      <td>23.451444</td>\n",
       "      <td>17.135171</td>\n",
       "    </tr>\n",
       "    <tr>\n",
       "      <th>1998</th>\n",
       "      <td>19.518473</td>\n",
       "      <td>23.546798</td>\n",
       "      <td>17.113300</td>\n",
       "    </tr>\n",
       "    <tr>\n",
       "      <th>1999</th>\n",
       "      <td>19.611502</td>\n",
       "      <td>23.552817</td>\n",
       "      <td>17.272300</td>\n",
       "    </tr>\n",
       "    <tr>\n",
       "      <th>2000</th>\n",
       "      <td>19.526190</td>\n",
       "      <td>23.414286</td>\n",
       "      <td>17.221429</td>\n",
       "    </tr>\n",
       "    <tr>\n",
       "      <th>2001</th>\n",
       "      <td>19.479693</td>\n",
       "      <td>23.328211</td>\n",
       "      <td>17.275521</td>\n",
       "    </tr>\n",
       "    <tr>\n",
       "      <th>2002</th>\n",
       "      <td>19.168205</td>\n",
       "      <td>23.030769</td>\n",
       "      <td>16.893333</td>\n",
       "    </tr>\n",
       "    <tr>\n",
       "      <th>2003</th>\n",
       "      <td>19.000958</td>\n",
       "      <td>22.836207</td>\n",
       "      <td>16.780651</td>\n",
       "    </tr>\n",
       "    <tr>\n",
       "      <th>2004</th>\n",
       "      <td>19.067736</td>\n",
       "      <td>23.064171</td>\n",
       "      <td>16.740642</td>\n",
       "    </tr>\n",
       "    <tr>\n",
       "      <th>2005</th>\n",
       "      <td>19.193825</td>\n",
       "      <td>23.297599</td>\n",
       "      <td>16.851630</td>\n",
       "    </tr>\n",
       "    <tr>\n",
       "      <th>2006</th>\n",
       "      <td>18.959239</td>\n",
       "      <td>23.048913</td>\n",
       "      <td>16.626812</td>\n",
       "    </tr>\n",
       "    <tr>\n",
       "      <th>2007</th>\n",
       "      <td>18.978686</td>\n",
       "      <td>23.083481</td>\n",
       "      <td>16.605684</td>\n",
       "    </tr>\n",
       "    <tr>\n",
       "      <th>2008</th>\n",
       "      <td>19.276327</td>\n",
       "      <td>23.455771</td>\n",
       "      <td>16.900590</td>\n",
       "    </tr>\n",
       "    <tr>\n",
       "      <th>2009</th>\n",
       "      <td>19.735642</td>\n",
       "      <td>24.017736</td>\n",
       "      <td>17.334459</td>\n",
       "    </tr>\n",
       "    <tr>\n",
       "      <th>2010</th>\n",
       "      <td>20.588819</td>\n",
       "      <td>24.947701</td>\n",
       "      <td>18.105500</td>\n",
       "    </tr>\n",
       "    <tr>\n",
       "      <th>2011</th>\n",
       "      <td>21.011504</td>\n",
       "      <td>25.169912</td>\n",
       "      <td>18.669027</td>\n",
       "    </tr>\n",
       "    <tr>\n",
       "      <th>2012</th>\n",
       "      <td>21.819444</td>\n",
       "      <td>26.105035</td>\n",
       "      <td>19.362847</td>\n",
       "    </tr>\n",
       "    <tr>\n",
       "      <th>2013</th>\n",
       "      <td>23.122466</td>\n",
       "      <td>27.501689</td>\n",
       "      <td>20.655405</td>\n",
       "    </tr>\n",
       "    <tr>\n",
       "      <th>2014</th>\n",
       "      <td>23.526531</td>\n",
       "      <td>27.975510</td>\n",
       "      <td>21.027755</td>\n",
       "    </tr>\n",
       "    <tr>\n",
       "      <th>2015</th>\n",
       "      <td>24.034295</td>\n",
       "      <td>28.586126</td>\n",
       "      <td>21.441154</td>\n",
       "    </tr>\n",
       "    <tr>\n",
       "      <th>2016</th>\n",
       "      <td>25.143423</td>\n",
       "      <td>29.606181</td>\n",
       "      <td>22.586371</td>\n",
       "    </tr>\n",
       "    <tr>\n",
       "      <th>2017</th>\n",
       "      <td>25.247486</td>\n",
       "      <td>29.552978</td>\n",
       "      <td>22.760247</td>\n",
       "    </tr>\n",
       "    <tr>\n",
       "      <th>2018</th>\n",
       "      <td>25.019345</td>\n",
       "      <td>29.273065</td>\n",
       "      <td>22.564732</td>\n",
       "    </tr>\n",
       "    <tr>\n",
       "      <th>2019</th>\n",
       "      <td>25.690637</td>\n",
       "      <td>29.706367</td>\n",
       "      <td>23.393258</td>\n",
       "    </tr>\n",
       "    <tr>\n",
       "      <th>2020</th>\n",
       "      <td>25.421502</td>\n",
       "      <td>29.348123</td>\n",
       "      <td>23.124573</td>\n",
       "    </tr>\n",
       "    <tr>\n",
       "      <th>2021</th>\n",
       "      <td>22.363636</td>\n",
       "      <td>26.727273</td>\n",
       "      <td>20.000000</td>\n",
       "    </tr>\n",
       "  </tbody>\n",
       "</table>\n",
       "</div>"
      ],
      "text/plain": [
       "         comb08  highway08     city08\n",
       "year                                 \n",
       "1984  19.881874  23.075356  17.982688\n",
       "1985  19.808348  23.042328  17.878307\n",
       "1986  19.550413  22.699174  17.665289\n",
       "1987  19.228549  22.445068  17.310345\n",
       "1988  19.328319  22.702655  17.333628\n",
       "1989  19.125759  22.465742  17.143972\n",
       "1990  19.000928  22.337662  17.033395\n",
       "1991  18.825972  22.253534  16.848940\n",
       "1992  18.862623  22.439786  16.805531\n",
       "1993  19.104300  22.780421  16.998170\n",
       "1994  19.012220  22.725051  16.918534\n",
       "1995  18.797311  22.671148  16.569804\n",
       "1996  19.584735  23.569211  17.289780\n",
       "1997  19.429134  23.451444  17.135171\n",
       "1998  19.518473  23.546798  17.113300\n",
       "1999  19.611502  23.552817  17.272300\n",
       "2000  19.526190  23.414286  17.221429\n",
       "2001  19.479693  23.328211  17.275521\n",
       "2002  19.168205  23.030769  16.893333\n",
       "2003  19.000958  22.836207  16.780651\n",
       "2004  19.067736  23.064171  16.740642\n",
       "2005  19.193825  23.297599  16.851630\n",
       "2006  18.959239  23.048913  16.626812\n",
       "2007  18.978686  23.083481  16.605684\n",
       "2008  19.276327  23.455771  16.900590\n",
       "2009  19.735642  24.017736  17.334459\n",
       "2010  20.588819  24.947701  18.105500\n",
       "2011  21.011504  25.169912  18.669027\n",
       "2012  21.819444  26.105035  19.362847\n",
       "2013  23.122466  27.501689  20.655405\n",
       "2014  23.526531  27.975510  21.027755\n",
       "2015  24.034295  28.586126  21.441154\n",
       "2016  25.143423  29.606181  22.586371\n",
       "2017  25.247486  29.552978  22.760247\n",
       "2018  25.019345  29.273065  22.564732\n",
       "2019  25.690637  29.706367  23.393258\n",
       "2020  25.421502  29.348123  23.124573\n",
       "2021  22.363636  26.727273  20.000000"
      ]
     },
     "execution_count": 11,
     "metadata": {},
     "output_type": "execute_result"
    }
   ],
   "source": [
    "# group the data by year\n",
    "grouped = vehicles.groupby('year')\n",
    "\n",
    "# compute the mean of three separate columns by the previous grouping\n",
    "averaged = grouped['comb08', 'highway08', 'city08'].mean()\n",
    "averaged"
   ]
  },
  {
   "cell_type": "markdown",
   "metadata": {},
   "source": [
    "<li> Rename the columns, and create a new column 'year', which contains the data frame's index"
   ]
  },
  {
   "cell_type": "code",
   "execution_count": 12,
   "metadata": {},
   "outputs": [
    {
     "data": {
      "text/html": [
       "<div>\n",
       "<style scoped>\n",
       "    .dataframe tbody tr th:only-of-type {\n",
       "        vertical-align: middle;\n",
       "    }\n",
       "\n",
       "    .dataframe tbody tr th {\n",
       "        vertical-align: top;\n",
       "    }\n",
       "\n",
       "    .dataframe thead th {\n",
       "        text-align: right;\n",
       "    }\n",
       "</style>\n",
       "<table border=\"1\" class=\"dataframe\">\n",
       "  <thead>\n",
       "    <tr style=\"text-align: right;\">\n",
       "      <th></th>\n",
       "      <th>comb08_mean</th>\n",
       "      <th>highway08_mean</th>\n",
       "      <th>city08_mean</th>\n",
       "      <th>year</th>\n",
       "    </tr>\n",
       "    <tr>\n",
       "      <th>year</th>\n",
       "      <th></th>\n",
       "      <th></th>\n",
       "      <th></th>\n",
       "      <th></th>\n",
       "    </tr>\n",
       "  </thead>\n",
       "  <tbody>\n",
       "    <tr>\n",
       "      <th>1984</th>\n",
       "      <td>19.881874</td>\n",
       "      <td>23.075356</td>\n",
       "      <td>17.982688</td>\n",
       "      <td>1984</td>\n",
       "    </tr>\n",
       "    <tr>\n",
       "      <th>1985</th>\n",
       "      <td>19.808348</td>\n",
       "      <td>23.042328</td>\n",
       "      <td>17.878307</td>\n",
       "      <td>1985</td>\n",
       "    </tr>\n",
       "    <tr>\n",
       "      <th>1986</th>\n",
       "      <td>19.550413</td>\n",
       "      <td>22.699174</td>\n",
       "      <td>17.665289</td>\n",
       "      <td>1986</td>\n",
       "    </tr>\n",
       "    <tr>\n",
       "      <th>1987</th>\n",
       "      <td>19.228549</td>\n",
       "      <td>22.445068</td>\n",
       "      <td>17.310345</td>\n",
       "      <td>1987</td>\n",
       "    </tr>\n",
       "    <tr>\n",
       "      <th>1988</th>\n",
       "      <td>19.328319</td>\n",
       "      <td>22.702655</td>\n",
       "      <td>17.333628</td>\n",
       "      <td>1988</td>\n",
       "    </tr>\n",
       "  </tbody>\n",
       "</table>\n",
       "</div>"
      ],
      "text/plain": [
       "      comb08_mean  highway08_mean  city08_mean  year\n",
       "year                                                \n",
       "1984    19.881874       23.075356    17.982688  1984\n",
       "1985    19.808348       23.042328    17.878307  1985\n",
       "1986    19.550413       22.699174    17.665289  1986\n",
       "1987    19.228549       22.445068    17.310345  1987\n",
       "1988    19.328319       22.702655    17.333628  1988"
      ]
     },
     "execution_count": 12,
     "metadata": {},
     "output_type": "execute_result"
    }
   ],
   "source": [
    "averaged.columns = ['comb08_mean', 'highway08_mean', 'city08_mean']\n",
    "averaged['year'] = averaged.index\n",
    "averaged.head()"
   ]
  },
  {
   "cell_type": "code",
   "execution_count": 13,
   "metadata": {},
   "outputs": [
    {
     "data": {
      "image/png": "[encoded data removed]",
      "text/plain": [
       "<Figure size 432x288 with 1 Axes>"
      ]
     },
     "metadata": {
      "needs_background": "light"
     },
     "output_type": "display_data"
    }
   ],
   "source": [
    "sns.scatterplot('year','comb08_mean', data=averaged)\n",
    "\n",
    "plt.xlabel('Year')\n",
    "plt.ylabel('Average MPG')\n",
    "plt.title('All cars')\n",
    "plt.grid(True)\n",
    "plt.show()"
   ]
  },
  {
   "cell_type": "markdown",
   "metadata": {},
   "source": [
    "**Note:** Hybrid cars with excellent mileage have recently become more popular, so we should screen out these."
   ]
  },
  {
   "cell_type": "markdown",
   "metadata": {},
   "source": [
    "### <li> Remove hybrid cars"
   ]
  },
  {
   "cell_type": "markdown",
   "metadata": {},
   "source": [
    "**criteria1** selects those rows of the data frame where 'fuelType1' is 'Regular Gasoline', 'Premium Gasoline', or 'Midgrade Gasoline'.<br>\n",
    "\n",
    "**criteria2** makes sure that the rows contain a null for 'fuelType2'<br>\n",
    "\n",
    "**criteria3** ensures that the 'atvType' is not 'Hybrid'"
   ]
  },
  {
   "cell_type": "code",
   "execution_count": 14,
   "metadata": {},
   "outputs": [
    {
     "data": {
      "text/plain": [
       "38317"
      ]
     },
     "execution_count": 14,
     "metadata": {},
     "output_type": "execute_result"
    }
   ],
   "source": [
    "criteria1 = vehicles.fuelType1.isin(['Regular Gasoline', 'Premium Gasoline', 'Midgrade Gasoline'])\n",
    "criteria2 = vehicles.fuelType2.isnull()\n",
    "criteria3 = vehicles.atvType != 'Hybrid'\n",
    "vehicles_non_hybrid = vehicles[criteria1 & criteria2 & criteria3]\n",
    "len(vehicles_non_hybrid)"
   ]
  },
  {
   "cell_type": "code",
   "execution_count": 15,
   "metadata": {
    "scrolled": true
   },
   "outputs": [
    {
     "data": {
      "text/plain": [
       "year\n",
       "1984    19.121622\n",
       "1985    19.394686\n",
       "1986    19.320457\n",
       "1987    19.164568\n",
       "1988    19.367607\n",
       "1989    19.141964\n",
       "1990    19.031459\n",
       "1991    18.838060\n",
       "1992    18.861566\n",
       "1993    19.137383\n",
       "1994    19.092632\n",
       "1995    18.872591\n",
       "1996    19.530962\n",
       "1997    19.368000\n",
       "1998    19.329545\n",
       "1999    19.239759\n",
       "2000    19.169345\n",
       "2001    19.075058\n",
       "2002    18.950270\n",
       "2003    18.761711\n",
       "2004    18.967339\n",
       "2005    19.005510\n",
       "2006    18.786398\n",
       "2007    18.987512\n",
       "2008    19.191781\n",
       "2009    19.738095\n",
       "2010    20.466736\n",
       "2011    20.838219\n",
       "2012    21.407328\n",
       "2013    22.225668\n",
       "2014    22.274691\n",
       "2015    22.413858\n",
       "2016    22.730337\n",
       "2017    22.801075\n",
       "2018    22.839861\n",
       "2019    22.741364\n",
       "2020    22.805416\n",
       "2021    22.363636\n",
       "Name: comb08, dtype: float64"
      ]
     },
     "execution_count": 15,
     "metadata": {},
     "output_type": "execute_result"
    }
   ],
   "source": [
    "# group the dataframe by year\n",
    "grouped = vehicles_non_hybrid.groupby('year')\n",
    "averaged = grouped['comb08'].mean()\n",
    "averaged"
   ]
  },
  {
   "cell_type": "markdown",
   "metadata": {},
   "source": [
    "**NOTICE:** there is still a marked rise in the average miles per gallon even after eliminating hybrids"
   ]
  },
  {
   "cell_type": "markdown",
   "metadata": {},
   "source": [
    "***"
   ]
  },
  {
   "cell_type": "markdown",
   "metadata": {},
   "source": [
    "### <li> Have there been fewer cars with large engines build more recently?<br>\n",
    "    \n",
    "If True, $\\Rightarrow$ it could explain the increase in average miles per gallon."
   ]
  },
  {
   "cell_type": "markdown",
   "metadata": {},
   "source": [
    "### Verify that larger engine cars have poorer MPG."
   ]
  },
  {
   "cell_type": "markdown",
   "metadata": {},
   "source": [
    "large engine $\\iff$ high displacement"
   ]
  },
  {
   "cell_type": "code",
   "execution_count": 16,
   "metadata": {},
   "outputs": [
    {
     "data": {
      "text/plain": [
       "array([2. , 4.9, 2.2, 5.2, 1.8, 1.6, 2.3, 2.8, 4. , 5. , 3.3, 3.1, 3.8,\n",
       "       4.6, 3.4, 3. , 5.9, 2.5, 4.5, 6.8, 2.4, 2.9, 5.7, 4.3, 3.5, 5.8,\n",
       "       3.2, 4.2, 1.9, 2.6, 7.4, 3.9, 1.5, 1.3, 4.1, 8. , 6. , 3.6, 5.4,\n",
       "       5.6, 1. , 2.1, 1.2, 6.5, 2.7, 4.7, 5.5, 1.1, 5.3, 4.4, 3.7, 6.7,\n",
       "       4.8, 1.7, 6.2, 8.3, 1.4, 6.1, 7. , 8.4, 6.3, nan, 6.6, 6.4, 0.9])"
      ]
     },
     "execution_count": 16,
     "metadata": {},
     "output_type": "execute_result"
    }
   ],
   "source": [
    "# 'disp' - the engine displacement in liters.\n",
    "vehicles_non_hybrid['displ'].unique()"
   ]
  },
  {
   "cell_type": "markdown",
   "metadata": {},
   "source": [
    "**NOTE** There are some value that might not be numeric, including the 'nan' value.<br>\n",
    "\n",
    "#### Remove all rows from the 'vehicles_non_hybrid' that have 'nan displ' values and then do the same for the 'comb08'."
   ]
  },
  {
   "cell_type": "code",
   "execution_count": 17,
   "metadata": {},
   "outputs": [
    {
     "name": "stderr",
     "output_type": "stream",
     "text": [
      "/Users/ayumi.matsuoka/anaconda3/lib/python3.7/site-packages/ipykernel_launcher.py:3: SettingWithCopyWarning: \n",
      "A value is trying to be set on a copy of a slice from a DataFrame.\n",
      "Try using .loc[row_indexer,col_indexer] = value instead\n",
      "\n",
      "See the caveats in the documentation: http://pandas.pydata.org/pandas-docs/stable/indexing.html#indexing-view-versus-copy\n",
      "  This is separate from the ipykernel package so we can avoid doing imports until\n"
     ]
    }
   ],
   "source": [
    "criteria = vehicles_non_hybrid['displ'].notna()\n",
    "vehicles_non_hybrid = vehicles_non_hybrid[criteria]\n",
    "vehicles_non_hybrid['displ'] = vehicles_non_hybrid.displ.astype('float')"
   ]
  },
  {
   "cell_type": "code",
   "execution_count": 18,
   "metadata": {},
   "outputs": [],
   "source": [
    "criteria = vehicles_non_hybrid['comb08'].notna()\n",
    "vehicles_non_hybrid = vehicles_non_hybrid[criteria]\n",
    "vehicles_non_hybrid['comb08'] = vehicles_non_hybrid['comb08'].astype('float')"
   ]
  },
  {
   "cell_type": "code",
   "execution_count": 19,
   "metadata": {},
   "outputs": [
    {
     "data": {
      "image/png": "[encoded data removed]",
      "text/plain": [
       "<Figure size 720x504 with 1 Axes>"
      ]
     },
     "metadata": {
      "needs_background": "light"
     },
     "output_type": "display_data"
    }
   ],
   "source": [
    "plt.figure(figsize=(10,7))\n",
    "sns.scatterplot('displ','comb08', data=vehicles_non_hybrid)\n",
    "plt.xlabel('Engine Displacement', fontsize=20)\n",
    "plt.ylabel('Average MPG', fontsize=20)\n",
    "plt.title('Gasoline cars', fontsize=20)\n",
    "plt.show()"
   ]
  },
  {
   "cell_type": "markdown",
   "metadata": {},
   "source": [
    "**NOTE:** The plot seems to confirm that there is a negative relationship between fuel economy and engine displacement (The higher displacement, the lower MPG)"
   ]
  },
  {
   "cell_type": "markdown",
   "metadata": {},
   "source": [
    "#### Check whether smaller cars were made in later years on average"
   ]
  },
  {
   "cell_type": "code",
   "execution_count": 20,
   "metadata": {},
   "outputs": [],
   "source": [
    "grouped_by_year = vehicles_non_hybrid.groupby('year')\n",
    "avg_grouped_by_year = grouped_by_year['displ', 'comb08'].mean()"
   ]
  },
  {
   "cell_type": "markdown",
   "metadata": {},
   "source": [
    "#### Reshape the dataframe and convert it from the wide format to long format"
   ]
  },
  {
   "cell_type": "code",
   "execution_count": 21,
   "metadata": {},
   "outputs": [
    {
     "data": {
      "text/html": [
       "<div>\n",
       "<style scoped>\n",
       "    .dataframe tbody tr th:only-of-type {\n",
       "        vertical-align: middle;\n",
       "    }\n",
       "\n",
       "    .dataframe tbody tr th {\n",
       "        vertical-align: top;\n",
       "    }\n",
       "\n",
       "    .dataframe thead th {\n",
       "        text-align: right;\n",
       "    }\n",
       "</style>\n",
       "<table border=\"1\" class=\"dataframe\">\n",
       "  <thead>\n",
       "    <tr style=\"text-align: right;\">\n",
       "      <th></th>\n",
       "      <th>year</th>\n",
       "      <th>variable</th>\n",
       "      <th>value</th>\n",
       "    </tr>\n",
       "  </thead>\n",
       "  <tbody>\n",
       "    <tr>\n",
       "      <th>0</th>\n",
       "      <td>1984</td>\n",
       "      <td>displ</td>\n",
       "      <td>3.068449</td>\n",
       "    </tr>\n",
       "    <tr>\n",
       "      <th>1</th>\n",
       "      <td>1985</td>\n",
       "      <td>displ</td>\n",
       "      <td>3.075990</td>\n",
       "    </tr>\n",
       "    <tr>\n",
       "      <th>2</th>\n",
       "      <td>1986</td>\n",
       "      <td>displ</td>\n",
       "      <td>3.126514</td>\n",
       "    </tr>\n",
       "    <tr>\n",
       "      <th>3</th>\n",
       "      <td>1987</td>\n",
       "      <td>displ</td>\n",
       "      <td>3.096474</td>\n",
       "    </tr>\n",
       "    <tr>\n",
       "      <th>4</th>\n",
       "      <td>1988</td>\n",
       "      <td>displ</td>\n",
       "      <td>3.113558</td>\n",
       "    </tr>\n",
       "    <tr>\n",
       "      <th>...</th>\n",
       "      <td>...</td>\n",
       "      <td>...</td>\n",
       "      <td>...</td>\n",
       "    </tr>\n",
       "    <tr>\n",
       "      <th>71</th>\n",
       "      <td>2017</td>\n",
       "      <td>comb08</td>\n",
       "      <td>22.801075</td>\n",
       "    </tr>\n",
       "    <tr>\n",
       "      <th>72</th>\n",
       "      <td>2018</td>\n",
       "      <td>comb08</td>\n",
       "      <td>22.839861</td>\n",
       "    </tr>\n",
       "    <tr>\n",
       "      <th>73</th>\n",
       "      <td>2019</td>\n",
       "      <td>comb08</td>\n",
       "      <td>22.741364</td>\n",
       "    </tr>\n",
       "    <tr>\n",
       "      <th>74</th>\n",
       "      <td>2020</td>\n",
       "      <td>comb08</td>\n",
       "      <td>22.805416</td>\n",
       "    </tr>\n",
       "    <tr>\n",
       "      <th>75</th>\n",
       "      <td>2021</td>\n",
       "      <td>comb08</td>\n",
       "      <td>22.363636</td>\n",
       "    </tr>\n",
       "  </tbody>\n",
       "</table>\n",
       "<p>76 rows × 3 columns</p>\n",
       "</div>"
      ],
      "text/plain": [
       "    year variable      value\n",
       "0   1984    displ   3.068449\n",
       "1   1985    displ   3.075990\n",
       "2   1986    displ   3.126514\n",
       "3   1987    displ   3.096474\n",
       "4   1988    displ   3.113558\n",
       "..   ...      ...        ...\n",
       "71  2017   comb08  22.801075\n",
       "72  2018   comb08  22.839861\n",
       "73  2019   comb08  22.741364\n",
       "74  2020   comb08  22.805416\n",
       "75  2021   comb08  22.363636\n",
       "\n",
       "[76 rows x 3 columns]"
      ]
     },
     "metadata": {},
     "output_type": "display_data"
    }
   ],
   "source": [
    "avg_grouped_by_year['year'] = avg_grouped_by_year.index\n",
    "melted_avg_grouped_by_year = pd.melt(avg_grouped_by_year, id_vars='year')\n",
    "with pd.option_context('display.max_rows',10):\n",
    "    display(melted_avg_grouped_by_year)"
   ]
  },
  {
   "cell_type": "code",
   "execution_count": 22,
   "metadata": {},
   "outputs": [
    {
     "data": {
      "image/png": "[encoded data removed]",
      "text/plain": [
       "<Figure size 648x432 with 2 Axes>"
      ]
     },
     "metadata": {
      "needs_background": "light"
     },
     "output_type": "display_data"
    }
   ],
   "source": [
    "g = sns.FacetGrid(melted_avg_grouped_by_year, row='variable', height=3, aspect=3, sharey=False)\n",
    "g = g.map(plt.scatter, 'year','value')\n",
    "g.axes[0,0].set(ylim=(3, 3.8))\n",
    "g.axes[1,0].set(ylim=(18, 23));"
   ]
  },
  {
   "cell_type": "markdown",
   "metadata": {},
   "source": [
    "**NOTE:** In later years, the average of the engine displacement became smaller, but the average MPG increased."
   ]
  },
  {
   "cell_type": "markdown",
   "metadata": {},
   "source": [
    "***"
   ]
  },
  {
   "cell_type": "markdown",
   "metadata": {},
   "source": [
    "## Investigating the makes and models of automobiles"
   ]
  },
  {
   "cell_type": "markdown",
   "metadata": {},
   "source": [
    "## <li> How makes and models of cars inform us about fuel efficiency over time"
   ]
  },
  {
   "cell_type": "markdown",
   "metadata": {},
   "source": [
    "### the frequency of makes and models of cars available in the U.S., concentraiting on 4-cylinder cars"
   ]
  },
  {
   "cell_type": "code",
   "execution_count": 23,
   "metadata": {},
   "outputs": [
    {
     "data": {
      "text/plain": [
       "array([ 4., 12.,  8.,  6.,  5., 10.,  2.,  3., 16., nan])"
      ]
     },
     "execution_count": 23,
     "metadata": {},
     "output_type": "execute_result"
    }
   ],
   "source": [
    "vehicles_non_hybrid['cylinders'].unique()"
   ]
  },
  {
   "cell_type": "code",
   "execution_count": 24,
   "metadata": {},
   "outputs": [],
   "source": [
    "# 4-cylinder cars\n",
    "vehicles_non_hybrid_4 = vehicles_non_hybrid[vehicles_non_hybrid.cylinders == 4.0]"
   ]
  },
  {
   "cell_type": "code",
   "execution_count": 25,
   "metadata": {},
   "outputs": [],
   "source": [
    "# the numbers of makes that have 4-cylinder cars over the time frame\n",
    "grouped_by_year_4_cylinder = vehicles_non_hybrid_4.groupby('year').make.nunique()"
   ]
  },
  {
   "cell_type": "code",
   "execution_count": 26,
   "metadata": {},
   "outputs": [
    {
     "data": {
      "image/png": "[encoded data removed]",
      "text/plain": [
       "<Figure size 432x288 with 1 Axes>"
      ]
     },
     "metadata": {
      "needs_background": "light"
     },
     "output_type": "display_data"
    }
   ],
   "source": [
    "plt.plot(grouped_by_year_4_cylinder)\n",
    "plt.xlabel('Year')\n",
    "plt.ylabel('Number of 4-Cylinder Makes')\n",
    "plt.show()"
   ]
  },
  {
   "cell_type": "markdown",
   "metadata": {},
   "source": [
    "**NOTE:** There has been a decline, but this plot could be misleading, as we do not know if the total number of available makes per year has changed over the same period of time."
   ]
  },
  {
   "cell_type": "markdown",
   "metadata": {},
   "source": [
    "### Find a list of the automobile makes with 4-cylinder engines that were present in every year of this study"
   ]
  },
  {
   "cell_type": "code",
   "execution_count": 79,
   "metadata": {
    "scrolled": true
   },
   "outputs": [
    {
     "data": {
      "text/plain": [
       "{'Chevrolet',\n",
       " 'Dodge',\n",
       " 'Ford',\n",
       " 'Honda',\n",
       " 'Jeep',\n",
       " 'Mazda',\n",
       " 'Mitsubishi',\n",
       " 'Nissan',\n",
       " 'Subaru',\n",
       " 'Toyota',\n",
       " 'Volkswagen'}"
      ]
     },
     "execution_count": 79,
     "metadata": {},
     "output_type": "execute_result"
    }
   ],
   "source": [
    "from functools import reduce\n",
    "\n",
    "# unique list of makes per model year\n",
    "grouped_by_year_4_cylinder = vehicles_non_hybrid_4.groupby('year')\n",
    "unique_makes = []\n",
    "\n",
    "for name, group in grouped_by_year_4_cylinder:\n",
    "    unique_makes.append(set(pd.unique(group['make'])))\n",
    "    \n",
    "x = unique_makes[0]\n",
    "\n",
    "for i in range(len(unique_makes)-1):\n",
    "    x = x.intersection(unique_makes[i])\n",
    "\n",
    "unique_makes = x\n",
    "unique_makes"
   ]
  },
  {
   "cell_type": "markdown",
   "metadata": {},
   "source": [
    "There are only 11 manufacturers that made 4-cylinder cars every year during this period"
   ]
  },
  {
   "cell_type": "markdown",
   "metadata": {},
   "source": [
    "### How these car manufacturers' models have performed over time in terms of fuel efficiency."
   ]
  },
  {
   "cell_type": "code",
   "execution_count": 103,
   "metadata": {
    "scrolled": false
   },
   "outputs": [],
   "source": [
    "\n",
    "# # Create an empty list that will eventually be populated by Booleans.\n",
    "# boolean_mask = []\n",
    "\n",
    "# # iterate over each row in the data frame using the 'iterrows' that yields both an index and row\n",
    "# for index, row in vehicles_non_hybrid_4.iterrows():\n",
    "    \n",
    "#     # test whether the make of the current row is in the 'unique_makes' and append the Boolean to the Boolean_mask\n",
    "#     make = row['make']\n",
    "#     boolean_mask.append(make in unique_makes)\n",
    "\n",
    "# # Subset the data frame to contain only rows with a make within the set of 'unique_makes'\n",
    "# df_common_makes = vehicles_non_hybrid_4[boolean_mask]\n",
    "\n",
    "\n",
    "## Alternative way\n",
    "# create a new dataframe that vechiles_non_hybrid_4 contains only rows with a make within the 'unique_makes'\n",
    "df_common_makes = vehicles_non_hybrid_4[vehicles_non_hybrid_4['make'].isin(unique_makes)]"
   ]
  },
  {
   "cell_type": "code",
   "execution_count": 104,
   "metadata": {},
   "outputs": [
    {
     "data": {
      "text/html": [
       "<div>\n",
       "<style scoped>\n",
       "    .dataframe tbody tr th:only-of-type {\n",
       "        vertical-align: middle;\n",
       "    }\n",
       "\n",
       "    .dataframe tbody tr th {\n",
       "        vertical-align: top;\n",
       "    }\n",
       "\n",
       "    .dataframe thead th {\n",
       "        text-align: right;\n",
       "    }\n",
       "</style>\n",
       "<table border=\"1\" class=\"dataframe\">\n",
       "  <thead>\n",
       "    <tr style=\"text-align: right;\">\n",
       "      <th></th>\n",
       "      <th>year</th>\n",
       "      <th>make</th>\n",
       "      <th>barrels08</th>\n",
       "      <th>barrelsA08</th>\n",
       "      <th>charge120</th>\n",
       "      <th>charge240</th>\n",
       "      <th>city08</th>\n",
       "      <th>city08U</th>\n",
       "      <th>cityA08</th>\n",
       "      <th>cityA08U</th>\n",
       "      <th>...</th>\n",
       "      <th>rangeHwyA</th>\n",
       "      <th>UCity</th>\n",
       "      <th>UCityA</th>\n",
       "      <th>UHighway</th>\n",
       "      <th>UHighwayA</th>\n",
       "      <th>youSaveSpend</th>\n",
       "      <th>charge240b</th>\n",
       "      <th>phevCity</th>\n",
       "      <th>phevHwy</th>\n",
       "      <th>phevComb</th>\n",
       "    </tr>\n",
       "  </thead>\n",
       "  <tbody>\n",
       "    <tr>\n",
       "      <th>0</th>\n",
       "      <td>1984</td>\n",
       "      <td>Chevrolet</td>\n",
       "      <td>14.573295</td>\n",
       "      <td>0.0</td>\n",
       "      <td>0.0</td>\n",
       "      <td>0.0</td>\n",
       "      <td>20.031250</td>\n",
       "      <td>0.0</td>\n",
       "      <td>0.0</td>\n",
       "      <td>0.0</td>\n",
       "      <td>...</td>\n",
       "      <td>0.0</td>\n",
       "      <td>25.328125</td>\n",
       "      <td>0.0</td>\n",
       "      <td>38.234375</td>\n",
       "      <td>0.0</td>\n",
       "      <td>-1445.312500</td>\n",
       "      <td>0.0</td>\n",
       "      <td>0.0</td>\n",
       "      <td>0.0</td>\n",
       "      <td>0.0</td>\n",
       "    </tr>\n",
       "    <tr>\n",
       "      <th>1</th>\n",
       "      <td>1984</td>\n",
       "      <td>Dodge</td>\n",
       "      <td>15.303645</td>\n",
       "      <td>0.0</td>\n",
       "      <td>0.0</td>\n",
       "      <td>0.0</td>\n",
       "      <td>19.947368</td>\n",
       "      <td>0.0</td>\n",
       "      <td>0.0</td>\n",
       "      <td>0.0</td>\n",
       "      <td>...</td>\n",
       "      <td>0.0</td>\n",
       "      <td>25.131579</td>\n",
       "      <td>0.0</td>\n",
       "      <td>35.175439</td>\n",
       "      <td>0.0</td>\n",
       "      <td>-1853.070175</td>\n",
       "      <td>0.0</td>\n",
       "      <td>0.0</td>\n",
       "      <td>0.0</td>\n",
       "      <td>0.0</td>\n",
       "    </tr>\n",
       "    <tr>\n",
       "      <th>2</th>\n",
       "      <td>1984</td>\n",
       "      <td>Ford</td>\n",
       "      <td>15.112954</td>\n",
       "      <td>0.0</td>\n",
       "      <td>0.0</td>\n",
       "      <td>0.0</td>\n",
       "      <td>19.863636</td>\n",
       "      <td>0.0</td>\n",
       "      <td>0.0</td>\n",
       "      <td>0.0</td>\n",
       "      <td>...</td>\n",
       "      <td>0.0</td>\n",
       "      <td>25.075758</td>\n",
       "      <td>0.0</td>\n",
       "      <td>36.333333</td>\n",
       "      <td>0.0</td>\n",
       "      <td>-1738.636364</td>\n",
       "      <td>0.0</td>\n",
       "      <td>0.0</td>\n",
       "      <td>0.0</td>\n",
       "      <td>0.0</td>\n",
       "    </tr>\n",
       "  </tbody>\n",
       "</table>\n",
       "<p>3 rows × 61 columns</p>\n",
       "</div>"
      ],
      "text/plain": [
       "   year       make  barrels08  barrelsA08  charge120  charge240     city08  \\\n",
       "0  1984  Chevrolet  14.573295         0.0        0.0        0.0  20.031250   \n",
       "1  1984      Dodge  15.303645         0.0        0.0        0.0  19.947368   \n",
       "2  1984       Ford  15.112954         0.0        0.0        0.0  19.863636   \n",
       "\n",
       "   city08U  cityA08  cityA08U  ...  rangeHwyA      UCity  UCityA   UHighway  \\\n",
       "0      0.0      0.0       0.0  ...        0.0  25.328125     0.0  38.234375   \n",
       "1      0.0      0.0       0.0  ...        0.0  25.131579     0.0  35.175439   \n",
       "2      0.0      0.0       0.0  ...        0.0  25.075758     0.0  36.333333   \n",
       "\n",
       "   UHighwayA  youSaveSpend  charge240b  phevCity  phevHwy  phevComb  \n",
       "0        0.0  -1445.312500         0.0       0.0      0.0       0.0  \n",
       "1        0.0  -1853.070175         0.0       0.0      0.0       0.0  \n",
       "2        0.0  -1738.636364         0.0       0.0      0.0       0.0  \n",
       "\n",
       "[3 rows x 61 columns]"
      ]
     },
     "execution_count": 104,
     "metadata": {},
     "output_type": "execute_result"
    }
   ],
   "source": [
    "\n",
    "# group the data frame by both 'year' and 'make' and compute the mean for each grouping\n",
    "df_common_makes_grouped = df_common_makes.groupby(['year', 'make']).mean().reset_index()\n",
    "# in the case of multiple grouping keys, pandas returns a multilevel index, so we have to reset index\n",
    "\n",
    "df_common_makes_grouped.head(3)"
   ]
  },
  {
   "cell_type": "code",
   "execution_count": 105,
   "metadata": {},
   "outputs": [
    {
     "data": {
      "text/plain": [
       "<seaborn.axisgrid.FacetGrid at 0x1a24c4b630>"
      ]
     },
     "execution_count": 105,
     "metadata": {},
     "output_type": "execute_result"
    },
    {
     "data": {
      "image/png": "[encoded data removed]",
      "text/plain": [
       "<Figure size 1620x864 with 11 Axes>"
      ]
     },
     "metadata": {
      "needs_background": "light"
     },
     "output_type": "display_data"
    }
   ],
   "source": [
    "g = sns.FacetGrid(df_common_makes_grouped, col='make', col_wrap = 3, height = 3, aspect = 2.5, sharey=False, sharex = False)\n",
    "g = g.map(plt.plot, 'year','comb08')\n",
    "g.set_titles(size=20)"
   ]
  },
  {
   "cell_type": "code",
   "execution_count": null,
   "metadata": {},
   "outputs": [],
   "source": []
  }
 ],
 "metadata": {
  "kernelspec": {
   "display_name": "Python 3",
   "language": "python",
   "name": "python3"
  },
  "language_info": {
   "codemirror_mode": {
    "name": "ipython",
    "version": 3
   },
   "file_extension": ".py",
   "mimetype": "text/x-python",
   "name": "python",
   "nbconvert_exporter": "python",
   "pygments_lexer": "ipython3",
   "version": "3.7.3"
  }
 },
 "nbformat": 4,
 "nbformat_minor": 2
}
